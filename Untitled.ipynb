{
 "cells": [
  {
   "cell_type": "code",
   "execution_count": 3,
   "metadata": {
    "scrolled": true
   },
   "outputs": [
    {
     "data": {
      "text/plain": [
       "{'hints': {'visited_nodes.average': '835.0', 'visited_nodes.sum': '835'},\n",
       " 'info': {'copyrights': ['GraphHopper', 'OpenStreetMap contributors'],\n",
       "  'took': 43},\n",
       " 'paths': [{'distance': 885388.971,\n",
       "   'weight': 42913.638169,\n",
       "   'time': 29631706,\n",
       "   'transfers': 0,\n",
       "   'snapped_waypoints': 'cpawHybxjAvyvP`zds@'}]}"
      ]
     },
     "execution_count": 3,
     "metadata": {},
     "output_type": "execute_result"
    }
   ],
   "source": [
    "# import os\n",
    "# result = os.popen(\"curl https://graphhopper.com/api/1/route?point=51.131,12.414&point=48.224,3.867&vehicle=car&locale=pt-BR&calc_points=false&key=ab15dc92-e4b7-44f4-b331-0e79ffc8c94e\")\n",
    "# print(result)\n",
    "\n",
    "import requests\n",
    "r = requests.get('https://graphhopper.com/api/1/route?point=51.131,12.414&point=48.224,3.867&vehicle=car&locale=pt-BR&calc_points=false&key=ab15dc92-e4b7-44f4-b331-0e79ffc8c94e')\n",
    "r.json()\n"
   ]
  },
  {
   "cell_type": "code",
   "execution_count": 4,
   "metadata": {},
   "outputs": [
    {
     "data": {
      "text/plain": [
       "885388.971"
      ]
     },
     "execution_count": 4,
     "metadata": {},
     "output_type": "execute_result"
    }
   ],
   "source": [
    "r.json()['paths'][0]['distance']"
   ]
  },
  {
   "cell_type": "code",
   "execution_count": null,
   "metadata": {},
   "outputs": [],
   "source": []
  }
 ],
 "metadata": {
  "kernelspec": {
   "display_name": "Python 3",
   "language": "python",
   "name": "python3"
  },
  "language_info": {
   "codemirror_mode": {
    "name": "ipython",
    "version": 3
   },
   "file_extension": ".py",
   "mimetype": "text/x-python",
   "name": "python",
   "nbconvert_exporter": "python",
   "pygments_lexer": "ipython3",
   "version": "3.7.5"
  }
 },
 "nbformat": 4,
 "nbformat_minor": 2
}
