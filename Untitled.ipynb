{
 "cells": [
  {
   "cell_type": "code",
   "execution_count": 10,
   "metadata": {
    "scrolled": true
   },
   "outputs": [
    {
     "data": {
      "text/plain": [
       "{'hints': {'visited_nodes.average': '722.0', 'visited_nodes.sum': '722'},\n",
       " 'info': {'copyrights': ['GraphHopper', 'OpenStreetMap contributors'],\n",
       "  'took': 32},\n",
       " 'paths': [{'distance': 885389.14,\n",
       "   'weight': 42913.655798,\n",
       "   'time': 29631713,\n",
       "   'transfers': 0,\n",
       "   'snapped_waypoints': 'cpawHybxjAvyvP`zds@'}]}"
      ]
     },
     "execution_count": 10,
     "metadata": {},
     "output_type": "execute_result"
    }
   ],
   "source": [
    "# import os\n",
    "# result = os.popen(\"curl https://graphhopper.com/api/1/route?point=51.131,12.414&point=48.224,3.867&vehicle=car&locale=pt-BR&calc_points=false&key=ab15dc92-e4b7-44f4-b331-0e79ffc8c94e\")\n",
    "# print(result)\n",
    "\n",
    "import requests\n",
    "r = requests.get('https://graphhopper.com/api/1/route?point=51.131,12.414&point=48.224,3.867&vehicle=car&locale=pt-BR&calc_points=false&key=ab15dc92-e4b7-44f4-b331-0e79ffc8c94e')\n",
    "r.json()\n"
   ]
  },
  {
   "cell_type": "code",
   "execution_count": 14,
   "metadata": {},
   "outputs": [
    {
     "data": {
      "text/plain": [
       "885389.14"
      ]
     },
     "execution_count": 14,
     "metadata": {},
     "output_type": "execute_result"
    }
   ],
   "source": [
    "r.json()['paths'][0]['distance']"
   ]
  }
 ],
 "metadata": {
  "kernelspec": {
   "display_name": "Python 3",
   "language": "python",
   "name": "python3"
  },
  "language_info": {
   "codemirror_mode": {
    "name": "ipython",
    "version": 3
   },
   "file_extension": ".py",
   "mimetype": "text/x-python",
   "name": "python",
   "nbconvert_exporter": "python",
   "pygments_lexer": "ipython3",
   "version": "3.7.4"
  }
 },
 "nbformat": 4,
 "nbformat_minor": 2
}
