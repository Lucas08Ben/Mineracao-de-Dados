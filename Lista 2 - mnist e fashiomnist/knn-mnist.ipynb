{
 "cells": [
  {
   "cell_type": "code",
   "execution_count": 1,
   "metadata": {},
   "outputs": [],
   "source": [
    "import pandas as pd\n",
    "from sklearn.neighbors import KNeighborsClassifier\n",
    "from sklearn import datasets\n",
    "import numpy as np\n",
    "import matplotlib.pyplot as plt"
   ]
  },
  {
   "cell_type": "markdown",
   "metadata": {},
   "source": [
    "### Importe o dataset "
   ]
  },
  {
   "cell_type": "code",
   "execution_count": 2,
   "metadata": {},
   "outputs": [],
   "source": [
    "mnist = datasets.load_digits()"
   ]
  },
  {
   "cell_type": "code",
   "execution_count": 3,
   "metadata": {},
   "outputs": [
    {
     "data": {
      "text/plain": [
       "{'data': array([[ 0.,  0.,  5., ...,  0.,  0.,  0.],\n",
       "        [ 0.,  0.,  0., ..., 10.,  0.,  0.],\n",
       "        [ 0.,  0.,  0., ..., 16.,  9.,  0.],\n",
       "        ...,\n",
       "        [ 0.,  0.,  1., ...,  6.,  0.,  0.],\n",
       "        [ 0.,  0.,  2., ..., 12.,  0.,  0.],\n",
       "        [ 0.,  0., 10., ..., 12.,  1.,  0.]]),\n",
       " 'target': array([0, 1, 2, ..., 8, 9, 8]),\n",
       " 'target_names': array([0, 1, 2, 3, 4, 5, 6, 7, 8, 9]),\n",
       " 'images': array([[[ 0.,  0.,  5., ...,  1.,  0.,  0.],\n",
       "         [ 0.,  0., 13., ..., 15.,  5.,  0.],\n",
       "         [ 0.,  3., 15., ..., 11.,  8.,  0.],\n",
       "         ...,\n",
       "         [ 0.,  4., 11., ..., 12.,  7.,  0.],\n",
       "         [ 0.,  2., 14., ..., 12.,  0.,  0.],\n",
       "         [ 0.,  0.,  6., ...,  0.,  0.,  0.]],\n",
       " \n",
       "        [[ 0.,  0.,  0., ...,  5.,  0.,  0.],\n",
       "         [ 0.,  0.,  0., ...,  9.,  0.,  0.],\n",
       "         [ 0.,  0.,  3., ...,  6.,  0.,  0.],\n",
       "         ...,\n",
       "         [ 0.,  0.,  1., ...,  6.,  0.,  0.],\n",
       "         [ 0.,  0.,  1., ...,  6.,  0.,  0.],\n",
       "         [ 0.,  0.,  0., ..., 10.,  0.,  0.]],\n",
       " \n",
       "        [[ 0.,  0.,  0., ..., 12.,  0.,  0.],\n",
       "         [ 0.,  0.,  3., ..., 14.,  0.,  0.],\n",
       "         [ 0.,  0.,  8., ..., 16.,  0.,  0.],\n",
       "         ...,\n",
       "         [ 0.,  9., 16., ...,  0.,  0.,  0.],\n",
       "         [ 0.,  3., 13., ..., 11.,  5.,  0.],\n",
       "         [ 0.,  0.,  0., ..., 16.,  9.,  0.]],\n",
       " \n",
       "        ...,\n",
       " \n",
       "        [[ 0.,  0.,  1., ...,  1.,  0.,  0.],\n",
       "         [ 0.,  0., 13., ...,  2.,  1.,  0.],\n",
       "         [ 0.,  0., 16., ..., 16.,  5.,  0.],\n",
       "         ...,\n",
       "         [ 0.,  0., 16., ..., 15.,  0.,  0.],\n",
       "         [ 0.,  0., 15., ..., 16.,  0.,  0.],\n",
       "         [ 0.,  0.,  2., ...,  6.,  0.,  0.]],\n",
       " \n",
       "        [[ 0.,  0.,  2., ...,  0.,  0.,  0.],\n",
       "         [ 0.,  0., 14., ..., 15.,  1.,  0.],\n",
       "         [ 0.,  4., 16., ..., 16.,  7.,  0.],\n",
       "         ...,\n",
       "         [ 0.,  0.,  0., ..., 16.,  2.,  0.],\n",
       "         [ 0.,  0.,  4., ..., 16.,  2.,  0.],\n",
       "         [ 0.,  0.,  5., ..., 12.,  0.,  0.]],\n",
       " \n",
       "        [[ 0.,  0., 10., ...,  1.,  0.,  0.],\n",
       "         [ 0.,  2., 16., ...,  1.,  0.,  0.],\n",
       "         [ 0.,  0., 15., ..., 15.,  0.,  0.],\n",
       "         ...,\n",
       "         [ 0.,  4., 16., ..., 16.,  6.,  0.],\n",
       "         [ 0.,  8., 16., ..., 16.,  8.,  0.],\n",
       "         [ 0.,  1.,  8., ..., 12.,  1.,  0.]]]),\n",
       " 'DESCR': \".. _digits_dataset:\\n\\nOptical recognition of handwritten digits dataset\\n--------------------------------------------------\\n\\n**Data Set Characteristics:**\\n\\n    :Number of Instances: 5620\\n    :Number of Attributes: 64\\n    :Attribute Information: 8x8 image of integer pixels in the range 0..16.\\n    :Missing Attribute Values: None\\n    :Creator: E. Alpaydin (alpaydin '@' boun.edu.tr)\\n    :Date: July; 1998\\n\\nThis is a copy of the test set of the UCI ML hand-written digits datasets\\nhttps://archive.ics.uci.edu/ml/datasets/Optical+Recognition+of+Handwritten+Digits\\n\\nThe data set contains images of hand-written digits: 10 classes where\\neach class refers to a digit.\\n\\nPreprocessing programs made available by NIST were used to extract\\nnormalized bitmaps of handwritten digits from a preprinted form. From a\\ntotal of 43 people, 30 contributed to the training set and different 13\\nto the test set. 32x32 bitmaps are divided into nonoverlapping blocks of\\n4x4 and the number of on pixels are counted in each block. This generates\\nan input matrix of 8x8 where each element is an integer in the range\\n0..16. This reduces dimensionality and gives invariance to small\\ndistortions.\\n\\nFor info on NIST preprocessing routines, see M. D. Garris, J. L. Blue, G.\\nT. Candela, D. L. Dimmick, J. Geist, P. J. Grother, S. A. Janet, and C.\\nL. Wilson, NIST Form-Based Handprint Recognition System, NISTIR 5469,\\n1994.\\n\\n.. topic:: References\\n\\n  - C. Kaynak (1995) Methods of Combining Multiple Classifiers and Their\\n    Applications to Handwritten Digit Recognition, MSc Thesis, Institute of\\n    Graduate Studies in Science and Engineering, Bogazici University.\\n  - E. Alpaydin, C. Kaynak (1998) Cascading Classifiers, Kybernetika.\\n  - Ken Tang and Ponnuthurai N. Suganthan and Xi Yao and A. Kai Qin.\\n    Linear dimensionalityreduction using relevance weighted LDA. School of\\n    Electrical and Electronic Engineering Nanyang Technological University.\\n    2005.\\n  - Claudio Gentile. A New Approximate Maximal Margin Classification\\n    Algorithm. NIPS. 2000.\"}"
      ]
     },
     "execution_count": 3,
     "metadata": {},
     "output_type": "execute_result"
    }
   ],
   "source": [
    "mnist"
   ]
  },
  {
   "cell_type": "markdown",
   "metadata": {},
   "source": [
    "### Divida o conjunto de dados em treino e teste. Para isso utilize o módulo train_test_split do scikit learn \n"
   ]
  },
  {
   "cell_type": "code",
   "execution_count": 4,
   "metadata": {},
   "outputs": [],
   "source": [
    "from sklearn.model_selection import train_test_split"
   ]
  },
  {
   "cell_type": "code",
   "execution_count": 5,
   "metadata": {},
   "outputs": [],
   "source": [
    "(trainData, testData, trainLabels, testLabels) = train_test_split(np.array(mnist.data),\n",
    "mnist.target, test_size=0.25, random_state=42)"
   ]
  },
  {
   "cell_type": "code",
   "execution_count": 6,
   "metadata": {},
   "outputs": [],
   "source": [
    "(trainData, valData, trainLabels, valLabels) = train_test_split(trainData, trainLabels,\n",
    "test_size=0.1, random_state=84)"
   ]
  },
  {
   "cell_type": "code",
   "execution_count": 7,
   "metadata": {},
   "outputs": [
    {
     "name": "stdout",
     "output_type": "stream",
     "text": [
      "training data points: 1212\n",
      "testing data points: 450\n",
      "validation data points: 135\n"
     ]
    }
   ],
   "source": [
    "print(\"training data points: {}\".format(len(trainLabels)))\n",
    "print(\"testing data points: {}\".format(len(testLabels)))\n",
    "print(\"validation data points: {}\".format(len(valLabels)))"
   ]
  },
  {
   "cell_type": "markdown",
   "metadata": {},
   "source": [
    "### Inicialize os valores de k para o classificador KNN juntamente com uma lista para armazenar os valores da acurácia"
   ]
  },
  {
   "cell_type": "code",
   "execution_count": 8,
   "metadata": {},
   "outputs": [],
   "source": [
    "kVals = range(1, 30, 2)\n",
    "accuracies = []"
   ]
  },
  {
   "cell_type": "markdown",
   "metadata": {},
   "source": [
    "### Utilize o KNeighborsClassifier do scikit learn para criar o seu classificador\n",
    "https://scikit-learn.org/stable/modules/neighbors.html"
   ]
  },
  {
   "cell_type": "code",
   "execution_count": 9,
   "metadata": {
    "scrolled": true
   },
   "outputs": [
    {
     "name": "stdout",
     "output_type": "stream",
     "text": [
      "k=1, accuracy=99.26%\n",
      "k=3, accuracy=99.26%\n",
      "k=5, accuracy=99.26%\n",
      "k=7, accuracy=99.26%\n",
      "k=9, accuracy=99.26%\n",
      "k=11, accuracy=99.26%\n",
      "k=13, accuracy=99.26%\n",
      "k=15, accuracy=99.26%\n",
      "k=17, accuracy=98.52%\n",
      "k=19, accuracy=98.52%\n",
      "k=21, accuracy=97.78%\n",
      "k=23, accuracy=97.04%\n",
      "k=25, accuracy=97.78%\n",
      "k=27, accuracy=97.04%\n",
      "k=29, accuracy=97.04%\n"
     ]
    }
   ],
   "source": [
    "for k in kVals:\n",
    "    # train the k-Nearest Neighbor classifier with the current value of `k`\n",
    "    model = KNeighborsClassifier(n_neighbors=k, metric='euclidean')\n",
    "    model.fit(trainData, trainLabels)\n",
    "    # evaluate the model and update the accuracies list\n",
    "    score = model.score(valData, valLabels)\n",
    "    print(\"k=%d, accuracy=%.2f%%\" % (k, score * 100))\n",
    "    accuracies.append(score)"
   ]
  },
  {
   "cell_type": "markdown",
   "metadata": {},
   "source": [
    "### Imprima em um gráfico os valores da acurácia em função de k"
   ]
  },
  {
   "cell_type": "code",
   "execution_count": 10,
   "metadata": {},
   "outputs": [
    {
     "data": {
      "image/png": "[encoded data removed]",
      "text/plain": [
       "<Figure size 432x288 with 1 Axes>"
      ]
     },
     "metadata": {
      "needs_background": "light"
     },
     "output_type": "display_data"
    }
   ],
   "source": [
    "    plt.plot(kVals, accuracies, marker='o');"
   ]
  },
  {
   "cell_type": "markdown",
   "metadata": {},
   "source": [
    "### Avaliação : Escolha o k com a melhor acurácia e avalie  o modelo utilizabdo as métricas de classificação disponíveis no Scikit-Learn\n",
    "\n",
    "https://scikit-learn.org/stable/modules/model_evaluation.html#classification-metrics\n",
    "\n",
    "* confusion_matrix\n",
    "* accuracy_score\n",
    "* f1_score\n",
    "* etc"
   ]
  },
  {
   "cell_type": "code",
   "execution_count": 11,
   "metadata": {},
   "outputs": [],
   "source": [
    "from sklearn import metrics"
   ]
  },
  {
   "cell_type": "code",
   "execution_count": 12,
   "metadata": {},
   "outputs": [],
   "source": [
    "models = {}"
   ]
  },
  {
   "cell_type": "code",
   "execution_count": 13,
   "metadata": {},
   "outputs": [],
   "source": [
    "fmodel = KNeighborsClassifier(n_neighbors=7, metric='euclidean')\n",
    "fmodel.fit(trainData, trainLabels)\n",
    "valPred = fmodel.predict(valData)\n",
    "models['euclidean'] = {'Confusion Matrix': metrics.confusion_matrix(valLabels, valPred), 'Accuracy Score': metrics.accuracy_score(valLabels, valPred), 'F1 Score': metrics.f1_score(valLabels, valPred, average='macro'), 'Recall Score': metrics.recall_score(valLabels, valPred, average='macro'), 'Precision Score': metrics.precision_score(valLabels, valPred, average='macro')}"
   ]
  },
  {
   "cell_type": "code",
   "execution_count": 14,
   "metadata": {},
   "outputs": [
    {
     "data": {
      "text/plain": [
       "{'Confusion Matrix': array([[11,  0,  0,  0,  0,  0,  0,  0,  0,  0],\n",
       "        [ 0, 13,  0,  0,  0,  0,  0,  0,  0,  0],\n",
       "        [ 0,  0, 10,  0,  0,  0,  0,  0,  0,  0],\n",
       "        [ 0,  0,  0, 14,  0,  0,  0,  0,  0,  0],\n",
       "        [ 0,  0,  0,  0, 17,  0,  0,  0,  0,  0],\n",
       "        [ 0,  0,  0,  0,  0, 13,  0,  0,  0,  0],\n",
       "        [ 0,  0,  0,  0,  0,  0, 17,  0,  0,  0],\n",
       "        [ 0,  0,  0,  0,  0,  0,  0, 14,  0,  0],\n",
       "        [ 0,  1,  0,  0,  0,  0,  0,  0, 10,  0],\n",
       "        [ 0,  0,  0,  0,  0,  0,  0,  0,  0, 15]]),\n",
       " 'Accuracy Score': 0.9925925925925926,\n",
       " 'F1 Score': 0.9915343915343915,\n",
       " 'Recall Score': 0.9909090909090909,\n",
       " 'Precision Score': 0.9928571428571429}"
      ]
     },
     "execution_count": 14,
     "metadata": {},
     "output_type": "execute_result"
    }
   ],
   "source": [
    "models['euclidean']"
   ]
  },
  {
   "cell_type": "markdown",
   "metadata": {},
   "source": [
    "### Modifique o parâmetro metric do classficiador e avalie outras distâncias métricas disponíveis"
   ]
  },
  {
   "cell_type": "code",
   "execution_count": 15,
   "metadata": {},
   "outputs": [],
   "source": [
    "fmodel = KNeighborsClassifier(n_neighbors=7, metric='manhattan')\n",
    "fmodel.fit(trainData, trainLabels)\n",
    "valPred = fmodel.predict(valData)\n",
    "models['manhattan'] = {'Confusion Matrix': metrics.confusion_matrix(valLabels, valPred), 'Accuracy Score': metrics.accuracy_score(valLabels, valPred), 'F1 Score': metrics.f1_score(valLabels, valPred, average='macro'), 'Recall Score': metrics.recall_score(valLabels, valPred, average='macro'), 'Precision Score': metrics.precision_score(valLabels, valPred, average='macro')}"
   ]
  },
  {
   "cell_type": "code",
   "execution_count": 16,
   "metadata": {
    "scrolled": true
   },
   "outputs": [
    {
     "data": {
      "text/plain": [
       "{'Confusion Matrix': array([[11,  0,  0,  0,  0,  0,  0,  0,  0,  0],\n",
       "        [ 0, 13,  0,  0,  0,  0,  0,  0,  0,  0],\n",
       "        [ 0,  0, 10,  0,  0,  0,  0,  0,  0,  0],\n",
       "        [ 0,  0,  0, 14,  0,  0,  0,  0,  0,  0],\n",
       "        [ 0,  0,  0,  0, 17,  0,  0,  0,  0,  0],\n",
       "        [ 0,  0,  0,  0,  0, 13,  0,  0,  0,  0],\n",
       "        [ 0,  0,  0,  0,  0,  0, 17,  0,  0,  0],\n",
       "        [ 0,  0,  0,  0,  0,  0,  0, 14,  0,  0],\n",
       "        [ 0,  1,  0,  0,  0,  0,  0,  0, 10,  0],\n",
       "        [ 0,  0,  0,  0,  0,  0,  0,  0,  0, 15]]),\n",
       " 'Accuracy Score': 0.9925925925925926,\n",
       " 'F1 Score': 0.9915343915343915,\n",
       " 'Recall Score': 0.9909090909090909,\n",
       " 'Precision Score': 0.9928571428571429}"
      ]
     },
     "execution_count": 16,
     "metadata": {},
     "output_type": "execute_result"
    }
   ],
   "source": [
    "models['manhattan']"
   ]
  },
  {
   "cell_type": "code",
   "execution_count": 17,
   "metadata": {},
   "outputs": [],
   "source": [
    "fmodel = KNeighborsClassifier(n_neighbors=7, metric='chebyshev')\n",
    "fmodel.fit(trainData, trainLabels)\n",
    "valPred = fmodel.predict(valData)\n",
    "models['chebyshev'] = {'Confusion Matrix': metrics.confusion_matrix(valLabels, valPred), 'Accuracy Score': metrics.accuracy_score(valLabels, valPred), 'F1 Score': metrics.f1_score(valLabels, valPred, average='macro'), 'Recall Score': metrics.recall_score(valLabels, valPred, average='macro'), 'Precision Score': metrics.precision_score(valLabels, valPred, average='macro')}"
   ]
  },
  {
   "cell_type": "code",
   "execution_count": 18,
   "metadata": {
    "scrolled": true
   },
   "outputs": [
    {
     "data": {
      "text/plain": [
       "{'Confusion Matrix': array([[11,  0,  0,  0,  0,  0,  0,  0,  0,  0],\n",
       "        [ 0, 11,  0,  0,  0,  0,  1,  0,  1,  0],\n",
       "        [ 0,  0, 10,  0,  0,  0,  0,  0,  0,  0],\n",
       "        [ 0,  1,  0, 13,  0,  0,  0,  0,  0,  0],\n",
       "        [ 0,  1,  0,  0, 16,  0,  0,  0,  0,  0],\n",
       "        [ 0,  0,  0,  1,  0, 12,  0,  0,  0,  0],\n",
       "        [ 0,  0,  0,  0,  0,  0, 17,  0,  0,  0],\n",
       "        [ 0,  0,  0,  0,  0,  0,  0, 14,  0,  0],\n",
       "        [ 0,  1,  0,  0,  0,  0,  0,  0, 10,  0],\n",
       "        [ 0,  0,  0,  0,  0,  0,  0,  0,  0, 15]]),\n",
       " 'Accuracy Score': 0.9555555555555556,\n",
       " 'F1 Score': 0.9553602693602693,\n",
       " 'Recall Score': 0.9548069577481341,\n",
       " 'Precision Score': 0.9567821067821068}"
      ]
     },
     "execution_count": 18,
     "metadata": {},
     "output_type": "execute_result"
    }
   ],
   "source": [
    "models['chebyshev']"
   ]
  },
  {
   "cell_type": "code",
   "execution_count": 19,
   "metadata": {},
   "outputs": [],
   "source": [
    "fmodel = KNeighborsClassifier(n_neighbors=7, metric='cosine')\n",
    "fmodel.fit(trainData, trainLabels)\n",
    "valPred = fmodel.predict(valData)\n",
    "models['cosine'] = {'Confusion Matrix': metrics.confusion_matrix(valLabels, valPred), 'Accuracy Score': metrics.accuracy_score(valLabels, valPred), 'F1 Score': metrics.f1_score(valLabels, valPred, average='macro'), 'Recall Score': metrics.recall_score(valLabels, valPred, average='macro'), 'Precision Score': metrics.precision_score(valLabels, valPred, average='macro')}"
   ]
  },
  {
   "cell_type": "code",
   "execution_count": 20,
   "metadata": {},
   "outputs": [
    {
     "data": {
      "text/plain": [
       "{'Confusion Matrix': array([[11,  0,  0,  0,  0,  0,  0,  0,  0,  0],\n",
       "        [ 0, 13,  0,  0,  0,  0,  0,  0,  0,  0],\n",
       "        [ 0,  0, 10,  0,  0,  0,  0,  0,  0,  0],\n",
       "        [ 0,  0,  0, 14,  0,  0,  0,  0,  0,  0],\n",
       "        [ 0,  0,  0,  0, 17,  0,  0,  0,  0,  0],\n",
       "        [ 0,  0,  0,  0,  0, 13,  0,  0,  0,  0],\n",
       "        [ 0,  0,  0,  0,  0,  0, 17,  0,  0,  0],\n",
       "        [ 0,  0,  0,  0,  0,  0,  0, 14,  0,  0],\n",
       "        [ 0,  1,  0,  0,  0,  0,  0,  0, 10,  0],\n",
       "        [ 0,  0,  0,  0,  0,  0,  0,  0,  0, 15]]),\n",
       " 'Accuracy Score': 0.9925925925925926,\n",
       " 'F1 Score': 0.9915343915343915,\n",
       " 'Recall Score': 0.9909090909090909,\n",
       " 'Precision Score': 0.9928571428571429}"
      ]
     },
     "execution_count": 20,
     "metadata": {},
     "output_type": "execute_result"
    }
   ],
   "source": [
    "models['cosine']"
   ]
  },
  {
   "cell_type": "code",
   "execution_count": 21,
   "metadata": {},
   "outputs": [],
   "source": [
    "df = pd.DataFrame.from_dict(models).drop(['Confusion Matrix'])"
   ]
  },
  {
   "cell_type": "code",
   "execution_count": 23,
   "metadata": {
    "scrolled": true
   },
   "outputs": [
    {
     "data": {
      "image/png": "[encoded data removed]",
      "text/plain": [
       "<Figure size 1440x360 with 1 Axes>"
      ]
     },
     "metadata": {
      "needs_background": "light"
     },
     "output_type": "display_data"
    }
   ],
   "source": [
    "df.plot(kind='bar', ylim=(0.94, 1.0), figsize=(20, 5));"
   ]
  },
  {
   "cell_type": "code",
   "execution_count": null,
   "metadata": {},
   "outputs": [],
   "source": []
  }
 ],
 "metadata": {
  "kernelspec": {
   "display_name": "Python 3",
   "language": "python",
   "name": "python3"
  },
  "language_info": {
   "codemirror_mode": {
    "name": "ipython",
    "version": 3
   },
   "file_extension": ".py",
   "mimetype": "text/x-python",
   "name": "python",
   "nbconvert_exporter": "python",
   "pygments_lexer": "ipython3",
   "version": "3.7.4"
  }
 },
 "nbformat": 4,
 "nbformat_minor": 2
}
