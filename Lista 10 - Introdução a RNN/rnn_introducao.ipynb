{
 "cells": [
  {
   "cell_type": "code",
   "execution_count": 1,
   "metadata": {},
   "outputs": [],
   "source": [
    "import pandas as pd"
   ]
  },
  {
   "cell_type": "code",
   "execution_count": 2,
   "metadata": {},
   "outputs": [],
   "source": [
    "df = pd.read_csv('../datasets/variados/movie_small.csv.gz', encoding='utf-8')"
   ]
  },
  {
   "cell_type": "code",
   "execution_count": 3,
   "metadata": {},
   "outputs": [],
   "source": [
    "df_frases = df['review']"
   ]
  },
  {
   "cell_type": "code",
   "execution_count": 4,
   "metadata": {},
   "outputs": [],
   "source": [
    "df_label = df['sentiment']"
   ]
  },
  {
   "cell_type": "code",
   "execution_count": 5,
   "metadata": {},
   "outputs": [
    {
     "data": {
      "text/plain": [
       "'hi for all the people who have seen this wonderful movie im sure thet you would have liked it as much as i. i love the songs once you have seen the show you can sing along as though you are part of the show singing and dancing . dancing and singing. the song ONE is an all time fave musical song too and the strutters at the end with the mirror its so oh you have to watch this one'"
      ]
     },
     "execution_count": 5,
     "metadata": {},
     "output_type": "execute_result"
    }
   ],
   "source": [
    "df_frases[3]"
   ]
  },
  {
   "cell_type": "code",
   "execution_count": 6,
   "metadata": {},
   "outputs": [
    {
     "data": {
      "text/plain": [
       "0    1\n",
       "1    0\n",
       "2    0\n",
       "3    1\n",
       "Name: sentiment, dtype: int64"
      ]
     },
     "execution_count": 6,
     "metadata": {},
     "output_type": "execute_result"
    }
   ],
   "source": [
    "df_label.head(n=4)"
   ]
  },
  {
   "cell_type": "code",
   "execution_count": 7,
   "metadata": {},
   "outputs": [],
   "source": [
    "num_words = 100"
   ]
  },
  {
   "cell_type": "code",
   "execution_count": 8,
   "metadata": {},
   "outputs": [],
   "source": [
    "from tensorflow.keras.preprocessing.text import Tokenizer"
   ]
  },
  {
   "cell_type": "code",
   "execution_count": 9,
   "metadata": {},
   "outputs": [],
   "source": [
    "tokenizer = Tokenizer(num_words=num_words)"
   ]
  },
  {
   "cell_type": "code",
   "execution_count": 10,
   "metadata": {},
   "outputs": [
    {
     "data": {
      "text/plain": [
       "'In 1974, the teenager Martha Moxley (Maggie Grace) moves to the high-class area of Belle Haven, Greenwich, Connecticut. On the Mischief Night, eve of Halloween, she was murdered in the backyard of her house and her murder remained unsolved. Twenty-two years later, the writer Mark Fuhrman (Christopher Meloni), who is a former LA detective that has fallen in disgrace for perjury in O.J. Simpson trial and moved to Idaho, decides to investigate the case with his partner Stephen Weeks (Andrew Mitchell) with the purpose of writing a book. The locals squirm and do not welcome them, but with the support of the retired detective Steve Carroll (Robert Forster) that was in charge of the investigation in the 70\\'s, they discover the criminal and a net of power and money to cover the murder.<br /><br />\"Murder in Greenwich\" is a good TV movie, with the true story of a murder of a fifteen years old girl that was committed by a wealthy teenager whose mother was a Kennedy. The powerful and rich family used their influence to cover the murder for more than twenty years. However, a snoopy detective and convicted perjurer in disgrace was able to disclose how the hideous crime was committed. The screenplay shows the investigation of Mark and the last days of Martha in parallel, but there is a lack of the emotion in the dramatization. My vote is seven.<br /><br />Title (Brazil): Not Available'"
      ]
     },
     "execution_count": 10,
     "metadata": {},
     "output_type": "execute_result"
    }
   ],
   "source": [
    "df['review'].values[0]"
   ]
  },
  {
   "cell_type": "code",
   "execution_count": 11,
   "metadata": {},
   "outputs": [],
   "source": [
    "tokenizer.fit_on_texts(df['review'].values)"
   ]
  },
  {
   "cell_type": "code",
   "execution_count": 12,
   "metadata": {},
   "outputs": [],
   "source": [
    "#tokenizer.word_index"
   ]
  },
  {
   "cell_type": "code",
   "execution_count": 16,
   "metadata": {},
   "outputs": [],
   "source": [
    "sequences = tokenizer.texts_to_sequences(df['review'].values)"
   ]
  },
  {
   "cell_type": "code",
   "execution_count": 14,
   "metadata": {},
   "outputs": [
    {
     "data": {
      "text/plain": [
       "116"
      ]
     },
     "execution_count": 14,
     "metadata": {},
     "output_type": "execute_result"
    }
   ],
   "source": [
    "len(sequences[0])"
   ]
  },
  {
   "cell_type": "code",
   "execution_count": 15,
   "metadata": {},
   "outputs": [
    {
     "data": {
      "text/plain": [
       "125"
      ]
     },
     "execution_count": 15,
     "metadata": {},
     "output_type": "execute_result"
    }
   ],
   "source": [
    "len(sequences[1])"
   ]
  },
  {
   "cell_type": "code",
   "execution_count": 17,
   "metadata": {},
   "outputs": [],
   "source": [
    "from tensorflow.keras.preprocessing import sequence"
   ]
  },
  {
   "cell_type": "code",
   "execution_count": 18,
   "metadata": {},
   "outputs": [],
   "source": [
    "len_seq = 60\n",
    "seq_pad = sequence.pad_sequences(sequences,maxlen=len_seq)"
   ]
  },
  {
   "cell_type": "code",
   "execution_count": 19,
   "metadata": {},
   "outputs": [
    {
     "data": {
      "text/plain": [
       "60"
      ]
     },
     "execution_count": 19,
     "metadata": {},
     "output_type": "execute_result"
    }
   ],
   "source": [
    "len(seq_pad[0])"
   ]
  },
  {
   "cell_type": "code",
   "execution_count": 21,
   "metadata": {},
   "outputs": [
    {
     "data": {
      "text/plain": [
       "array([[ 4,  3,  5, ...,  7,  7, 22],\n",
       "       [12, 20, 11, ..., 69, 16,  1],\n",
       "       [37,  1, 66, ...,  7, 43,  4],\n",
       "       ...,\n",
       "       [ 2, 17, 84, ..., 10,  9, 32],\n",
       "       [ 0,  0,  0, ..., 10,  5, 63],\n",
       "       [ 8, 12,  1, ..., 94, 43,  4]], dtype=int32)"
      ]
     },
     "execution_count": 21,
     "metadata": {},
     "output_type": "execute_result"
    }
   ],
   "source": [
    "seq_pad"
   ]
  },
  {
   "cell_type": "code",
   "execution_count": 20,
   "metadata": {},
   "outputs": [],
   "source": [
    "from tensorflow.keras.models import Sequential\n",
    "from tensorflow.keras.layers import SimpleRNN, Embedding, Dense "
   ]
  },
  {
   "cell_type": "code",
   "execution_count": 20,
   "metadata": {},
   "outputs": [],
   "source": [
    "new_dim = 32\n",
    "model = Sequential()\n",
    "model.add(Embedding(input_dim=num_words, output_dim=new_dim, input_length=len_seq))\n",
    "model.add(SimpleRNN(units=10, input_shape=(new_dim,)))\n",
    "model.add(Dense(1, activation='sigmoid'))"
   ]
  },
  {
   "cell_type": "code",
   "execution_count": 21,
   "metadata": {},
   "outputs": [
    {
     "name": "stdout",
     "output_type": "stream",
     "text": [
      "Model: \"sequential\"\n",
      "_________________________________________________________________\n",
      "Layer (type)                 Output Shape              Param #   \n",
      "=================================================================\n",
      "embedding (Embedding)        (None, 60, 32)            3200      \n",
      "_________________________________________________________________\n",
      "simple_rnn (SimpleRNN)       (None, 10)                430       \n",
      "_________________________________________________________________\n",
      "dense (Dense)                (None, 1)                 11        \n",
      "=================================================================\n",
      "Total params: 3,641\n",
      "Trainable params: 3,641\n",
      "Non-trainable params: 0\n",
      "_________________________________________________________________\n"
     ]
    }
   ],
   "source": [
    "model.summary()"
   ]
  },
  {
   "cell_type": "code",
   "execution_count": 22,
   "metadata": {},
   "outputs": [],
   "source": [
    "size_tr = int(0.8*len(seq_pad))\n",
    "x_tr, y_tr = seq_pad[:size_tr], df_label.values[:size_tr]\n",
    "x_test, y_test = seq_pad[size_tr:], df_label.values[size_tr:]"
   ]
  },
  {
   "cell_type": "code",
   "execution_count": 23,
   "metadata": {},
   "outputs": [],
   "source": [
    "from tensorflow.keras.callbacks import EarlyStopping"
   ]
  },
  {
   "cell_type": "code",
   "execution_count": 24,
   "metadata": {},
   "outputs": [],
   "source": [
    "callback_early = EarlyStopping(min_delta=0.01, patience=10)"
   ]
  },
  {
   "cell_type": "code",
   "execution_count": 25,
   "metadata": {},
   "outputs": [],
   "source": [
    "metrics = ['acc']\n",
    "model.compile(optimizer='rmsprop', loss='binary_crossentropy', metrics=metrics)"
   ]
  },
  {
   "cell_type": "code",
   "execution_count": 26,
   "metadata": {
    "scrolled": true
   },
   "outputs": [
    {
     "name": "stdout",
     "output_type": "stream",
     "text": [
      "Train on 720 samples, validate on 80 samples\n",
      "Epoch 1/100\n",
      "720/720 [==============================] - 7s 10ms/sample - loss: 0.7000 - acc: 0.4764 - val_loss: 0.6875 - val_acc: 0.6000\n",
      "Epoch 2/100\n",
      "720/720 [==============================] - 4s 5ms/sample - loss: 0.6643 - acc: 0.6306 - val_loss: 0.6874 - val_acc: 0.5250\n",
      "Epoch 3/100\n",
      "720/720 [==============================] - 4s 5ms/sample - loss: 0.6151 - acc: 0.7167 - val_loss: 0.6932 - val_acc: 0.5625\n",
      "Epoch 4/100\n",
      "720/720 [==============================] - 4s 5ms/sample - loss: 0.5541 - acc: 0.7653 - val_loss: 0.6717 - val_acc: 0.5375\n",
      "Epoch 5/100\n",
      "720/720 [==============================] - 5s 7ms/sample - loss: 0.5067 - acc: 0.7958 - val_loss: 0.6314 - val_acc: 0.6500\n",
      "Epoch 6/100\n",
      "720/720 [==============================] - 5s 7ms/sample - loss: 0.4656 - acc: 0.8250 - val_loss: 0.6496 - val_acc: 0.5875\n",
      "Epoch 7/100\n",
      "720/720 [==============================] - 6s 8ms/sample - loss: 0.4209 - acc: 0.8500 - val_loss: 0.6907 - val_acc: 0.6125\n",
      "Epoch 8/100\n",
      "720/720 [==============================] - 3s 4ms/sample - loss: 0.3804 - acc: 0.8681 - val_loss: 0.6455 - val_acc: 0.6375\n",
      "Epoch 9/100\n",
      "720/720 [==============================] - 4s 5ms/sample - loss: 0.3452 - acc: 0.8847 - val_loss: 0.7018 - val_acc: 0.6750\n",
      "Epoch 10/100\n",
      "720/720 [==============================] - 3s 4ms/sample - loss: 0.3120 - acc: 0.9014 - val_loss: 0.7156 - val_acc: 0.5875\n",
      "Epoch 11/100\n",
      "720/720 [==============================] - 3s 4ms/sample - loss: 0.2782 - acc: 0.9236 - val_loss: 0.6905 - val_acc: 0.6500\n",
      "Epoch 12/100\n",
      "720/720 [==============================] - 3s 4ms/sample - loss: 0.2471 - acc: 0.9403 - val_loss: 0.7435 - val_acc: 0.6000\n",
      "Epoch 13/100\n",
      "720/720 [==============================] - 4s 6ms/sample - loss: 0.2292 - acc: 0.9486 - val_loss: 0.7186 - val_acc: 0.6125\n",
      "Epoch 14/100\n",
      "720/720 [==============================] - 5s 6ms/sample - loss: 0.1993 - acc: 0.9611 - val_loss: 0.8466 - val_acc: 0.6250\n",
      "Epoch 15/100\n",
      "720/720 [==============================] - 4s 5ms/sample - loss: 0.1779 - acc: 0.9681 - val_loss: 0.8392 - val_acc: 0.6125\n"
     ]
    }
   ],
   "source": [
    "history = model.fit(x=x_tr,y=y_tr, batch_size=10, epochs=100,validation_split=0.1, callbacks=[callback_early])"
   ]
  },
  {
   "cell_type": "code",
   "execution_count": 27,
   "metadata": {},
   "outputs": [
    {
     "data": {
      "text/plain": [
       "{'batch_size': 10,\n",
       " 'epochs': 100,\n",
       " 'steps': 72,\n",
       " 'samples': 720,\n",
       " 'verbose': 0,\n",
       " 'do_validation': True,\n",
       " 'metrics': ['loss', 'acc', 'val_loss', 'val_acc']}"
      ]
     },
     "execution_count": 27,
     "metadata": {},
     "output_type": "execute_result"
    }
   ],
   "source": [
    "history.params"
   ]
  },
  {
   "cell_type": "code",
   "execution_count": 28,
   "metadata": {},
   "outputs": [
    {
     "name": "stdout",
     "output_type": "stream",
     "text": [
      "\r",
      "200/1 [================================================================================================================================================================================================================================================================================================================================================================================================================================================================================================================================================================================================================================================================================================================================================================================================================================================================================================================================================================================================================================================================================================================================================================================================================================================================================================================================================================================================================================================================================================================================================================================================================================================================================================================================================================================================================================================================================================================================================================================================================================================================================================================================================================================================================================================================================================================================================================================================================================================================================================================================================================================================================================================================================================================================================================================================================================================================================================================================================================================================================================================================================================================================================================================================================================================================================================================================================================================================================================================================================================================================================================================================================================================================================================================================================================================================================================================================================================================================================================================================================================================================================================================================================================================================================================================================================================================================================================================================================================================================================================================================================================================================================================================================================================================================================================================================================================================================================================================================================================================================================================================================================================================================================================================================================================================================================================================================================================================================================================================================================================================================================================================================================================================================================================================================================================================================================================================================================================================================================================================================================================================================================================================================================================================================================================================] - 0s 2ms/sample - loss: 1.1119 - acc: 0.5850\n"
     ]
    },
    {
     "data": {
      "text/plain": [
       "[0.9256381464004516, 0.585]"
      ]
     },
     "execution_count": 28,
     "metadata": {},
     "output_type": "execute_result"
    }
   ],
   "source": [
    "evalu = model.evaluate(x=x_test, y=y_test)\n",
    "evalu"
   ]
  },
  {
   "cell_type": "code",
   "execution_count": null,
   "metadata": {},
   "outputs": [],
   "source": []
  }
 ],
 "metadata": {
  "kernelspec": {
   "display_name": "Python 3",
   "language": "python",
   "name": "python3"
  },
  "language_info": {
   "codemirror_mode": {
    "name": "ipython",
    "version": 3
   },
   "file_extension": ".py",
   "mimetype": "text/x-python",
   "name": "python",
   "nbconvert_exporter": "python",
   "pygments_lexer": "ipython3",
   "version": "3.7.7"
  }
 },
 "nbformat": 4,
 "nbformat_minor": 2
}
